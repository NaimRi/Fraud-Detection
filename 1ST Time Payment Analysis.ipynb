{
 "cells": [
  {
   "cell_type": "code",
   "execution_count": 49,
   "id": "ef757085",
   "metadata": {},
   "outputs": [],
   "source": [
    "import pandas as pd\n",
    "\n",
    "df = pd.read_csv(r'C:\\Users\\Naim Rihan/Data.csv')"
   ]
  },
  {
   "cell_type": "code",
   "execution_count": 50,
   "id": "acc6df63",
   "metadata": {},
   "outputs": [
    {
     "data": {
      "text/html": [
       "<div>\n",
       "<style scoped>\n",
       "    .dataframe tbody tr th:only-of-type {\n",
       "        vertical-align: middle;\n",
       "    }\n",
       "\n",
       "    .dataframe tbody tr th {\n",
       "        vertical-align: top;\n",
       "    }\n",
       "\n",
       "    .dataframe thead th {\n",
       "        text-align: right;\n",
       "    }\n",
       "</style>\n",
       "<table border=\"1\" class=\"dataframe\">\n",
       "  <thead>\n",
       "    <tr style=\"text-align: right;\">\n",
       "      <th></th>\n",
       "      <th>created</th>\n",
       "      <th>device_name</th>\n",
       "      <th>device_os_version</th>\n",
       "      <th>country</th>\n",
       "      <th>city_id</th>\n",
       "      <th>lat</th>\n",
       "      <th>lng</th>\n",
       "      <th>real_destination_lat</th>\n",
       "      <th>real_destination_lng</th>\n",
       "      <th>user_id</th>\n",
       "      <th>...</th>\n",
       "      <th>distance</th>\n",
       "      <th>ride_distance</th>\n",
       "      <th>price</th>\n",
       "      <th>ride_price</th>\n",
       "      <th>price_review_status</th>\n",
       "      <th>price_review_reason</th>\n",
       "      <th>is_successful_payment</th>\n",
       "      <th>name</th>\n",
       "      <th>card_bin</th>\n",
       "      <th>failed_attempts</th>\n",
       "    </tr>\n",
       "  </thead>\n",
       "  <tbody>\n",
       "    <tr>\n",
       "      <th>0</th>\n",
       "      <td>2016-01-23 23:10:07</td>\n",
       "      <td>motorolaXT1562</td>\n",
       "      <td>motorola6.0.1</td>\n",
       "      <td>ee</td>\n",
       "      <td>2.0</td>\n",
       "      <td>58.378220</td>\n",
       "      <td>26.710402</td>\n",
       "      <td>58.363243</td>\n",
       "      <td>26.737696</td>\n",
       "      <td>218</td>\n",
       "      <td>...</td>\n",
       "      <td>773</td>\n",
       "      <td>3017</td>\n",
       "      <td>4.5000</td>\n",
       "      <td>4.5000</td>\n",
       "      <td>ok</td>\n",
       "      <td>NaN</td>\n",
       "      <td>1</td>\n",
       "      <td>**** 0810</td>\n",
       "      <td>NaN</td>\n",
       "      <td>0</td>\n",
       "    </tr>\n",
       "    <tr>\n",
       "      <th>1</th>\n",
       "      <td>2016-05-04 06:01:32</td>\n",
       "      <td>iPhone6</td>\n",
       "      <td>iOS10.3.3</td>\n",
       "      <td>ee</td>\n",
       "      <td>1.0</td>\n",
       "      <td>59.424130</td>\n",
       "      <td>24.646359</td>\n",
       "      <td>59.397548</td>\n",
       "      <td>24.660957</td>\n",
       "      <td>266</td>\n",
       "      <td>...</td>\n",
       "      <td>43</td>\n",
       "      <td>4241</td>\n",
       "      <td>4.4000</td>\n",
       "      <td>4.4000</td>\n",
       "      <td>ok</td>\n",
       "      <td>NaN</td>\n",
       "      <td>1</td>\n",
       "      <td>**** 9115</td>\n",
       "      <td>NaN</td>\n",
       "      <td>0</td>\n",
       "    </tr>\n",
       "    <tr>\n",
       "      <th>2</th>\n",
       "      <td>2016-08-27 16:42:22</td>\n",
       "      <td>HTCHTC 10</td>\n",
       "      <td>HTC7.0</td>\n",
       "      <td>ee</td>\n",
       "      <td>1.0</td>\n",
       "      <td>59.413508</td>\n",
       "      <td>24.743706</td>\n",
       "      <td>59.448500</td>\n",
       "      <td>24.804887</td>\n",
       "      <td>551</td>\n",
       "      <td>...</td>\n",
       "      <td>1654</td>\n",
       "      <td>6347</td>\n",
       "      <td>7.2000</td>\n",
       "      <td>7.2000</td>\n",
       "      <td>ok</td>\n",
       "      <td>NaN</td>\n",
       "      <td>1</td>\n",
       "      <td>**** 0634</td>\n",
       "      <td>516903.0</td>\n",
       "      <td>0</td>\n",
       "    </tr>\n",
       "    <tr>\n",
       "      <th>3</th>\n",
       "      <td>2016-10-25 07:14:27</td>\n",
       "      <td>iPhone6S</td>\n",
       "      <td>iOS10.3.2</td>\n",
       "      <td>ee</td>\n",
       "      <td>1.0</td>\n",
       "      <td>59.419938</td>\n",
       "      <td>24.744795</td>\n",
       "      <td>59.431686</td>\n",
       "      <td>24.720801</td>\n",
       "      <td>798</td>\n",
       "      <td>...</td>\n",
       "      <td>883</td>\n",
       "      <td>2638</td>\n",
       "      <td>3.1000</td>\n",
       "      <td>3.1000</td>\n",
       "      <td>ok</td>\n",
       "      <td>NaN</td>\n",
       "      <td>1</td>\n",
       "      <td>**** 8730</td>\n",
       "      <td>541747.0</td>\n",
       "      <td>0</td>\n",
       "    </tr>\n",
       "    <tr>\n",
       "      <th>4</th>\n",
       "      <td>2016-09-09 12:46:47</td>\n",
       "      <td>iPhone5,2</td>\n",
       "      <td>iOS9.3.4</td>\n",
       "      <td>ee</td>\n",
       "      <td>1.0</td>\n",
       "      <td>59.471328</td>\n",
       "      <td>24.890557</td>\n",
       "      <td>59.427836</td>\n",
       "      <td>24.774460</td>\n",
       "      <td>944</td>\n",
       "      <td>...</td>\n",
       "      <td>1109</td>\n",
       "      <td>10288</td>\n",
       "      <td>9.0999</td>\n",
       "      <td>9.0999</td>\n",
       "      <td>ok</td>\n",
       "      <td>NaN</td>\n",
       "      <td>1</td>\n",
       "      <td>**** 3503</td>\n",
       "      <td>NaN</td>\n",
       "      <td>0</td>\n",
       "    </tr>\n",
       "  </tbody>\n",
       "</table>\n",
       "<p>5 rows × 22 columns</p>\n",
       "</div>"
      ],
      "text/plain": [
       "               created     device_name device_os_version country  city_id  \\\n",
       "0  2016-01-23 23:10:07  motorolaXT1562     motorola6.0.1      ee      2.0   \n",
       "1  2016-05-04 06:01:32         iPhone6         iOS10.3.3      ee      1.0   \n",
       "2  2016-08-27 16:42:22       HTCHTC 10            HTC7.0      ee      1.0   \n",
       "3  2016-10-25 07:14:27        iPhone6S         iOS10.3.2      ee      1.0   \n",
       "4  2016-09-09 12:46:47       iPhone5,2          iOS9.3.4      ee      1.0   \n",
       "\n",
       "         lat        lng  real_destination_lat  real_destination_lng  user_id  \\\n",
       "0  58.378220  26.710402             58.363243             26.737696      218   \n",
       "1  59.424130  24.646359             59.397548             24.660957      266   \n",
       "2  59.413508  24.743706             59.448500             24.804887      551   \n",
       "3  59.419938  24.744795             59.431686             24.720801      798   \n",
       "4  59.471328  24.890557             59.427836             24.774460      944   \n",
       "\n",
       "   ...  distance  ride_distance   price  ride_price  price_review_status  \\\n",
       "0  ...       773           3017  4.5000      4.5000           ok           \n",
       "1  ...        43           4241  4.4000      4.4000           ok           \n",
       "2  ...      1654           6347  7.2000      7.2000           ok           \n",
       "3  ...       883           2638  3.1000      3.1000           ok           \n",
       "4  ...      1109          10288  9.0999      9.0999           ok           \n",
       "\n",
       "   price_review_reason is_successful_payment       name  card_bin  \\\n",
       "0                  NaN                     1  **** 0810       NaN   \n",
       "1                  NaN                     1  **** 9115       NaN   \n",
       "2                  NaN                     1  **** 0634  516903.0   \n",
       "3                  NaN                     1  **** 8730  541747.0   \n",
       "4                  NaN                     1  **** 3503       NaN   \n",
       "\n",
       "  failed_attempts  \n",
       "0               0  \n",
       "1               0  \n",
       "2               0  \n",
       "3               0  \n",
       "4               0  \n",
       "\n",
       "[5 rows x 22 columns]"
      ]
     },
     "execution_count": 50,
     "metadata": {},
     "output_type": "execute_result"
    }
   ],
   "source": [
    "df.head() "
   ]
  },
  {
   "cell_type": "code",
   "execution_count": 51,
   "id": "bb828fac",
   "metadata": {},
   "outputs": [],
   "source": [
    "def categorical_summarized(dataframe, x=None, y=None, hue=None, palette='Set1', verbose=True):\n",
    "    '''\n",
    "    Helper function that gives a quick summary of a given column of categorical data\n",
    "    Arguments\n",
    "    =========\n",
    "    dataframe: pandas dataframe\n",
    "    x: str. horizontal axis to plot the labels of categorical data, y would be the count\n",
    "    y: str. vertical axis to plot the labels of categorical data, x would be the count\n",
    "    hue: str. if you want to compare it another variable (usually the target variable)\n",
    "    palette: array-like. Colour of the plot\n",
    "    Returns\n",
    "    =======\n",
    "    Quick Stats of the data and also the count plot\n",
    "    '''\n",
    "    if x == None:\n",
    "        column_interested = y\n",
    "    else:\n",
    "        column_interested = x\n",
    "    series = dataframe[column_interested]\n",
    "    print(series.describe())\n",
    "    print('mode: ', series.mode())\n",
    "    if verbose:\n",
    "        print('='*80)\n",
    "        print(series.value_counts())\n",
    "\n",
    "    sns.countplot(x=x, y=y, hue=hue, data=dataframe, palette=palette)\n",
    "    plt.show()"
   ]
  },
  {
   "cell_type": "code",
   "execution_count": 69,
   "id": "6f6f457b",
   "metadata": {},
   "outputs": [
    {
     "name": "stdout",
     "output_type": "stream",
     "text": [
      "count     304052\n",
      "unique        22\n",
      "top           za\n",
      "freq       78694\n",
      "Name: country, dtype: object\n",
      "mode:  0    za\n",
      "dtype: object\n",
      "================================================================================\n",
      "za    78694\n",
      "lv    55707\n",
      "ee    43780\n",
      "hu    23137\n",
      "lt    20862\n",
      "ro    18127\n",
      "ge    12795\n",
      "cz     9648\n",
      "ua     7652\n",
      "az     7010\n",
      "mx     6798\n",
      "pl     6037\n",
      "sk     4888\n",
      "ke     3427\n",
      "rs     3006\n",
      "mt     1045\n",
      "eg      501\n",
      "ng      483\n",
      "fi      397\n",
      "gh       56\n",
      "ca        1\n",
      "sa        1\n",
      "Name: country, dtype: int64\n"
     ]
    },
    {
     "data": {
      "image/png": "[encoded data removed]",
      "text/plain": [
       "<Figure size 432x288 with 1 Axes>"
      ]
     },
     "metadata": {},
     "output_type": "display_data"
    }
   ],
   "source": [
    "c_palette = ['tab:blue', 'tab:orange']\n",
    "\n",
    "categorical_summarized(df, y = 'country', hue='is_successful_payment', palette=c_palette)"
   ]
  },
  {
   "cell_type": "markdown",
   "id": "d4a27885",
   "metadata": {},
   "source": [
    "# Result 1  about country"
   ]
  },
  {
   "cell_type": "markdown",
   "id": "0b7ee6d6",
   "metadata": {},
   "source": [
    "ZA: \"South Africa\" IV: \"Côte d'Ivoire\"\n",
    "\n",
    "It is noticeable that there is a problem with these two regions and therefore certain restrictions must be placed in order to pay the ride for the first time\n",
    "\n",
    "For example:\n",
    "    \n",
    "1- Prevent the postpaid option to be only prepaid.\n",
    "\n",
    "2 - Forcing the initial charged balance to be twice the price of the first flight.\n",
    "\n",
    "3- A credit balance cut by the company before the start of any trip by the customer to reserve its right"
   ]
  },
  {
   "cell_type": "code",
   "execution_count": 86,
   "id": "2c719864",
   "metadata": {},
   "outputs": [
    {
     "data": {
      "text/html": [
       "<div>\n",
       "<style scoped>\n",
       "    .dataframe tbody tr th:only-of-type {\n",
       "        vertical-align: middle;\n",
       "    }\n",
       "\n",
       "    .dataframe tbody tr th {\n",
       "        vertical-align: top;\n",
       "    }\n",
       "\n",
       "    .dataframe thead th {\n",
       "        text-align: right;\n",
       "    }\n",
       "</style>\n",
       "<table border=\"1\" class=\"dataframe\">\n",
       "  <thead>\n",
       "    <tr style=\"text-align: right;\">\n",
       "      <th></th>\n",
       "      <th>created</th>\n",
       "      <th>device_name</th>\n",
       "      <th>device_os_version</th>\n",
       "      <th>country</th>\n",
       "      <th>city_id</th>\n",
       "      <th>lat</th>\n",
       "      <th>lng</th>\n",
       "      <th>real_destination_lat</th>\n",
       "      <th>real_destination_lng</th>\n",
       "      <th>user_id</th>\n",
       "      <th>...</th>\n",
       "      <th>distance</th>\n",
       "      <th>ride_distance</th>\n",
       "      <th>price</th>\n",
       "      <th>ride_price</th>\n",
       "      <th>price_review_status</th>\n",
       "      <th>price_review_reason</th>\n",
       "      <th>is_successful_payment</th>\n",
       "      <th>name</th>\n",
       "      <th>card_bin</th>\n",
       "      <th>failed_attempts</th>\n",
       "    </tr>\n",
       "  </thead>\n",
       "  <tbody>\n",
       "    <tr>\n",
       "      <th>18</th>\n",
       "      <td>2017-06-14 13:00:25</td>\n",
       "      <td>OnePlusONEPLUS A3003</td>\n",
       "      <td>OnePlus7.1.1</td>\n",
       "      <td>ee</td>\n",
       "      <td>1.0</td>\n",
       "      <td>59.420321</td>\n",
       "      <td>24.697136</td>\n",
       "      <td>59.330578</td>\n",
       "      <td>24.472601</td>\n",
       "      <td>2853</td>\n",
       "      <td>...</td>\n",
       "      <td>491</td>\n",
       "      <td>19033</td>\n",
       "      <td>0.0</td>\n",
       "      <td>0.0</td>\n",
       "      <td>ok</td>\n",
       "      <td>NaN</td>\n",
       "      <td>0</td>\n",
       "      <td>**** 2822</td>\n",
       "      <td>516867.0</td>\n",
       "      <td>0</td>\n",
       "    </tr>\n",
       "    <tr>\n",
       "      <th>34</th>\n",
       "      <td>2016-03-03 15:11:32</td>\n",
       "      <td>OnePlusONE E1003</td>\n",
       "      <td>OnePlus6.0.1</td>\n",
       "      <td>ee</td>\n",
       "      <td>1.0</td>\n",
       "      <td>59.416350</td>\n",
       "      <td>24.692010</td>\n",
       "      <td>59.406597</td>\n",
       "      <td>24.658743</td>\n",
       "      <td>5031</td>\n",
       "      <td>...</td>\n",
       "      <td>1461</td>\n",
       "      <td>2775</td>\n",
       "      <td>0.0</td>\n",
       "      <td>0.0</td>\n",
       "      <td>ok</td>\n",
       "      <td>NaN</td>\n",
       "      <td>0</td>\n",
       "      <td>**** 8997</td>\n",
       "      <td>529412.0</td>\n",
       "      <td>0</td>\n",
       "    </tr>\n",
       "    <tr>\n",
       "      <th>39</th>\n",
       "      <td>2016-01-22 07:02:45</td>\n",
       "      <td>iPhone7</td>\n",
       "      <td>iOS10.1</td>\n",
       "      <td>ee</td>\n",
       "      <td>1.0</td>\n",
       "      <td>59.412517</td>\n",
       "      <td>24.648007</td>\n",
       "      <td>59.399812</td>\n",
       "      <td>24.669028</td>\n",
       "      <td>5820</td>\n",
       "      <td>...</td>\n",
       "      <td>307</td>\n",
       "      <td>2947</td>\n",
       "      <td>0.0</td>\n",
       "      <td>0.0</td>\n",
       "      <td>ok</td>\n",
       "      <td>NaN</td>\n",
       "      <td>0</td>\n",
       "      <td>**** 1472</td>\n",
       "      <td>516737.0</td>\n",
       "      <td>0</td>\n",
       "    </tr>\n",
       "    <tr>\n",
       "      <th>52</th>\n",
       "      <td>2015-12-12 22:02:40</td>\n",
       "      <td>samsungSM-G930F</td>\n",
       "      <td>samsung7.0</td>\n",
       "      <td>ee</td>\n",
       "      <td>1.0</td>\n",
       "      <td>59.390862</td>\n",
       "      <td>24.721267</td>\n",
       "      <td>59.305744</td>\n",
       "      <td>24.671476</td>\n",
       "      <td>10115</td>\n",
       "      <td>...</td>\n",
       "      <td>1421</td>\n",
       "      <td>10453</td>\n",
       "      <td>8.8</td>\n",
       "      <td>8.8</td>\n",
       "      <td>ok</td>\n",
       "      <td>NaN</td>\n",
       "      <td>0</td>\n",
       "      <td>**** 9380</td>\n",
       "      <td>516737.0</td>\n",
       "      <td>0</td>\n",
       "    </tr>\n",
       "    <tr>\n",
       "      <th>57</th>\n",
       "      <td>2016-02-12 23:06:59</td>\n",
       "      <td>SonyF5121</td>\n",
       "      <td>Sony7.0</td>\n",
       "      <td>ee</td>\n",
       "      <td>1.0</td>\n",
       "      <td>59.411968</td>\n",
       "      <td>24.650227</td>\n",
       "      <td>59.433578</td>\n",
       "      <td>24.795090</td>\n",
       "      <td>10997</td>\n",
       "      <td>...</td>\n",
       "      <td>899</td>\n",
       "      <td>11286</td>\n",
       "      <td>0.0</td>\n",
       "      <td>0.0</td>\n",
       "      <td>ok</td>\n",
       "      <td>NaN</td>\n",
       "      <td>0</td>\n",
       "      <td>**** 9779</td>\n",
       "      <td>557014.0</td>\n",
       "      <td>0</td>\n",
       "    </tr>\n",
       "    <tr>\n",
       "      <th>...</th>\n",
       "      <td>...</td>\n",
       "      <td>...</td>\n",
       "      <td>...</td>\n",
       "      <td>...</td>\n",
       "      <td>...</td>\n",
       "      <td>...</td>\n",
       "      <td>...</td>\n",
       "      <td>...</td>\n",
       "      <td>...</td>\n",
       "      <td>...</td>\n",
       "      <td>...</td>\n",
       "      <td>...</td>\n",
       "      <td>...</td>\n",
       "      <td>...</td>\n",
       "      <td>...</td>\n",
       "      <td>...</td>\n",
       "      <td>...</td>\n",
       "      <td>...</td>\n",
       "      <td>...</td>\n",
       "      <td>...</td>\n",
       "      <td>...</td>\n",
       "    </tr>\n",
       "    <tr>\n",
       "      <th>304035</th>\n",
       "      <td>2017-01-17 05:27:15</td>\n",
       "      <td>samsungSM-N900</td>\n",
       "      <td>samsung5.0</td>\n",
       "      <td>za</td>\n",
       "      <td>54.0</td>\n",
       "      <td>-26.014147</td>\n",
       "      <td>28.101215</td>\n",
       "      <td>-26.035955</td>\n",
       "      <td>28.068351</td>\n",
       "      <td>1059244</td>\n",
       "      <td>...</td>\n",
       "      <td>1797</td>\n",
       "      <td>5479</td>\n",
       "      <td>55.0</td>\n",
       "      <td>55.0</td>\n",
       "      <td>ok</td>\n",
       "      <td>NaN</td>\n",
       "      <td>0</td>\n",
       "      <td>**** 8655</td>\n",
       "      <td>522262.0</td>\n",
       "      <td>0</td>\n",
       "    </tr>\n",
       "    <tr>\n",
       "      <th>304036</th>\n",
       "      <td>2017-02-14 19:26:53</td>\n",
       "      <td>HTCHTC One_M8</td>\n",
       "      <td>HTC6.0</td>\n",
       "      <td>za</td>\n",
       "      <td>54.0</td>\n",
       "      <td>-26.083742</td>\n",
       "      <td>27.876919</td>\n",
       "      <td>-26.072602</td>\n",
       "      <td>27.887509</td>\n",
       "      <td>1190156</td>\n",
       "      <td>...</td>\n",
       "      <td>3439</td>\n",
       "      <td>1906</td>\n",
       "      <td>0.0</td>\n",
       "      <td>25.0</td>\n",
       "      <td>ok</td>\n",
       "      <td>NaN</td>\n",
       "      <td>0</td>\n",
       "      <td>**** 0324</td>\n",
       "      <td>484162.0</td>\n",
       "      <td>0</td>\n",
       "    </tr>\n",
       "    <tr>\n",
       "      <th>304038</th>\n",
       "      <td>2017-05-22 15:10:27</td>\n",
       "      <td>iPhone7</td>\n",
       "      <td>iOS10.3.3</td>\n",
       "      <td>za</td>\n",
       "      <td>55.0</td>\n",
       "      <td>-34.083962</td>\n",
       "      <td>18.849969</td>\n",
       "      <td>-34.063482</td>\n",
       "      <td>18.812826</td>\n",
       "      <td>1290671</td>\n",
       "      <td>...</td>\n",
       "      <td>129</td>\n",
       "      <td>1945</td>\n",
       "      <td>0.0</td>\n",
       "      <td>20.0</td>\n",
       "      <td>ok</td>\n",
       "      <td>NaN</td>\n",
       "      <td>0</td>\n",
       "      <td>**** 0039</td>\n",
       "      <td>402167.0</td>\n",
       "      <td>2</td>\n",
       "    </tr>\n",
       "    <tr>\n",
       "      <th>304039</th>\n",
       "      <td>2017-05-06 00:37:16</td>\n",
       "      <td>samsungSM-G900H</td>\n",
       "      <td>samsung6.0.1</td>\n",
       "      <td>za</td>\n",
       "      <td>55.0</td>\n",
       "      <td>-33.820529</td>\n",
       "      <td>18.478342</td>\n",
       "      <td>-33.816071</td>\n",
       "      <td>18.496946</td>\n",
       "      <td>1390289</td>\n",
       "      <td>...</td>\n",
       "      <td>79</td>\n",
       "      <td>23390</td>\n",
       "      <td>175.0</td>\n",
       "      <td>175.0</td>\n",
       "      <td>ok</td>\n",
       "      <td>NaN</td>\n",
       "      <td>0</td>\n",
       "      <td>**** 6124</td>\n",
       "      <td>528497.0</td>\n",
       "      <td>0</td>\n",
       "    </tr>\n",
       "    <tr>\n",
       "      <th>304046</th>\n",
       "      <td>2017-06-10 03:46:36</td>\n",
       "      <td>samsungSM-G800F</td>\n",
       "      <td>samsung6.0.1</td>\n",
       "      <td>za</td>\n",
       "      <td>55.0</td>\n",
       "      <td>-33.895288</td>\n",
       "      <td>18.606248</td>\n",
       "      <td>-33.969501</td>\n",
       "      <td>18.596173</td>\n",
       "      <td>1845812</td>\n",
       "      <td>...</td>\n",
       "      <td>2754</td>\n",
       "      <td>11155</td>\n",
       "      <td>0.0</td>\n",
       "      <td>95.0</td>\n",
       "      <td>ok</td>\n",
       "      <td>NaN</td>\n",
       "      <td>0</td>\n",
       "      <td>**** 2019</td>\n",
       "      <td>403822.0</td>\n",
       "      <td>0</td>\n",
       "    </tr>\n",
       "  </tbody>\n",
       "</table>\n",
       "<p>79033 rows × 22 columns</p>\n",
       "</div>"
      ],
      "text/plain": [
       "                    created           device_name device_os_version country  \\\n",
       "18      2017-06-14 13:00:25  OnePlusONEPLUS A3003      OnePlus7.1.1      ee   \n",
       "34      2016-03-03 15:11:32      OnePlusONE E1003      OnePlus6.0.1      ee   \n",
       "39      2016-01-22 07:02:45               iPhone7           iOS10.1      ee   \n",
       "52      2015-12-12 22:02:40       samsungSM-G930F        samsung7.0      ee   \n",
       "57      2016-02-12 23:06:59             SonyF5121           Sony7.0      ee   \n",
       "...                     ...                   ...               ...     ...   \n",
       "304035  2017-01-17 05:27:15        samsungSM-N900        samsung5.0      za   \n",
       "304036  2017-02-14 19:26:53         HTCHTC One_M8            HTC6.0      za   \n",
       "304038  2017-05-22 15:10:27               iPhone7         iOS10.3.3      za   \n",
       "304039  2017-05-06 00:37:16       samsungSM-G900H      samsung6.0.1      za   \n",
       "304046  2017-06-10 03:46:36       samsungSM-G800F      samsung6.0.1      za   \n",
       "\n",
       "        city_id        lat        lng  real_destination_lat  \\\n",
       "18          1.0  59.420321  24.697136             59.330578   \n",
       "34          1.0  59.416350  24.692010             59.406597   \n",
       "39          1.0  59.412517  24.648007             59.399812   \n",
       "52          1.0  59.390862  24.721267             59.305744   \n",
       "57          1.0  59.411968  24.650227             59.433578   \n",
       "...         ...        ...        ...                   ...   \n",
       "304035     54.0 -26.014147  28.101215            -26.035955   \n",
       "304036     54.0 -26.083742  27.876919            -26.072602   \n",
       "304038     55.0 -34.083962  18.849969            -34.063482   \n",
       "304039     55.0 -33.820529  18.478342            -33.816071   \n",
       "304046     55.0 -33.895288  18.606248            -33.969501   \n",
       "\n",
       "        real_destination_lng  user_id  ...  distance  ride_distance  price  \\\n",
       "18                 24.472601     2853  ...       491          19033    0.0   \n",
       "34                 24.658743     5031  ...      1461           2775    0.0   \n",
       "39                 24.669028     5820  ...       307           2947    0.0   \n",
       "52                 24.671476    10115  ...      1421          10453    8.8   \n",
       "57                 24.795090    10997  ...       899          11286    0.0   \n",
       "...                      ...      ...  ...       ...            ...    ...   \n",
       "304035             28.068351  1059244  ...      1797           5479   55.0   \n",
       "304036             27.887509  1190156  ...      3439           1906    0.0   \n",
       "304038             18.812826  1290671  ...       129           1945    0.0   \n",
       "304039             18.496946  1390289  ...        79          23390  175.0   \n",
       "304046             18.596173  1845812  ...      2754          11155    0.0   \n",
       "\n",
       "        ride_price  price_review_status  price_review_reason  \\\n",
       "18             0.0           ok                          NaN   \n",
       "34             0.0           ok                          NaN   \n",
       "39             0.0           ok                          NaN   \n",
       "52             8.8           ok                          NaN   \n",
       "57             0.0           ok                          NaN   \n",
       "...            ...                  ...                  ...   \n",
       "304035        55.0           ok                          NaN   \n",
       "304036        25.0           ok                          NaN   \n",
       "304038        20.0           ok                          NaN   \n",
       "304039       175.0           ok                          NaN   \n",
       "304046        95.0           ok                          NaN   \n",
       "\n",
       "       is_successful_payment       name  card_bin failed_attempts  \n",
       "18                         0  **** 2822  516867.0               0  \n",
       "34                         0  **** 8997  529412.0               0  \n",
       "39                         0  **** 1472  516737.0               0  \n",
       "52                         0  **** 9380  516737.0               0  \n",
       "57                         0  **** 9779  557014.0               0  \n",
       "...                      ...        ...       ...             ...  \n",
       "304035                     0  **** 8655  522262.0               0  \n",
       "304036                     0  **** 0324  484162.0               0  \n",
       "304038                     0  **** 0039  402167.0               2  \n",
       "304039                     0  **** 6124  528497.0               0  \n",
       "304046                     0  **** 2019  403822.0               0  \n",
       "\n",
       "[79033 rows x 22 columns]"
      ]
     },
     "execution_count": 86,
     "metadata": {},
     "output_type": "execute_result"
    }
   ],
   "source": [
    "df_zeros = df[df['is_successful_payment']==0]\n",
    "df_zeros"
   ]
  },
  {
   "cell_type": "code",
   "execution_count": 92,
   "id": "8f7c961a",
   "metadata": {},
   "outputs": [
    {
     "name": "stdout",
     "output_type": "stream",
     "text": [
      "city_id  is_successful_payment\n",
      "54.0     0                        14788\n",
      "3.0      0                        12890\n",
      "325.0    0                         6555\n",
      "55.0     0                         6309\n",
      "317.0    0                         4355\n",
      "158.0    0                         4210\n",
      "9.0      0                         3943\n",
      "271.0    0                         3899\n",
      "1.0      0                         3335\n",
      "307.0    0                         3010\n"
     ]
    },
    {
     "data": {
      "text/plain": [
       "<AxesSubplot:xlabel='city_id,is_successful_payment'>"
      ]
     },
     "execution_count": 92,
     "metadata": {},
     "output_type": "execute_result"
    },
    {
     "data": {
      "image/png": "[encoded data removed]",
      "text/plain": [
       "<Figure size 1080x360 with 1 Axes>"
      ]
     },
     "metadata": {},
     "output_type": "display_data"
    }
   ],
   "source": [
    "outa = df_zeros[['city_id','is_successful_payment']].value_counts().nlargest(10)\n",
    "print(outa.to_string())\n",
    "outa.plot(kind='bar', figsize=(15,5))"
   ]
  },
  {
   "cell_type": "markdown",
   "id": "1390dbc0",
   "metadata": {},
   "source": [
    "# Result 2  about Cities"
   ]
  },
  {
   "cell_type": "markdown",
   "id": "0f9ac19b",
   "metadata": {},
   "source": [
    "We can notice in a very clear way that the cities with (54 - 3 - 325 - 55 - 317) Ids have a lot of zeros as a result to \n",
    "is_successful_payment\n",
    "\n",
    "This indicates that some areas really have a payment problem and this problem should be addressed, for example:\n",
    "\n",
    "1- There may be poor internet connection, which prevents the payment process from being completed well\n",
    "\n",
    "2- There may be a lack of information on how to complete the payment process\n",
    "\n",
    "etc."
   ]
  },
  {
   "cell_type": "code",
   "execution_count": 61,
   "id": "5df75582",
   "metadata": {},
   "outputs": [
    {
     "name": "stdout",
     "output_type": "stream",
     "text": [
      "count                            1108\n",
      "unique                              3\n",
      "top       price_too_high             \n",
      "freq                             1005\n",
      "Name: price_review_reason, dtype: object\n",
      "mode:  0    price_too_high             \n",
      "dtype: object\n",
      "================================================================================\n",
      "price_too_high                 1005\n",
      "calculation_failed               69\n",
      "price_calculation_warnings       34\n",
      "Name: price_review_reason, dtype: int64\n"
     ]
    },
    {
     "data": {
      "image/png": "[encoded data removed]",
      "text/plain": [
       "<Figure size 432x288 with 1 Axes>"
      ]
     },
     "metadata": {},
     "output_type": "display_data"
    }
   ],
   "source": [
    "c_palette = ['tab:blue', 'tab:orange']\n",
    "\n",
    "categorical_summarized(df, y = 'price_review_reason', hue='is_successful_payment', palette=c_palette)"
   ]
  },
  {
   "cell_type": "markdown",
   "id": "f1739da7",
   "metadata": {},
   "source": [
    "# Result 3  about high price"
   ]
  },
  {
   "cell_type": "markdown",
   "id": "9f9cc638",
   "metadata": {},
   "source": [
    "The most frequent review associated with a failed result is the high price, \n",
    "\n",
    "it is possible that the customer refuses to complete the payment process because of the high price\n",
    "\n",
    "Recommendation here:\n",
    "    \n",
    "Perhaps it is worth revisiting the price of rides in some areas!"
   ]
  },
  {
   "cell_type": "code",
   "execution_count": 3,
   "id": "7929f287",
   "metadata": {},
   "outputs": [
    {
     "name": "stdout",
     "output_type": "stream",
     "text": [
      "['2016-01-23 23:10:07' '2016-05-04 06:01:32' '2016-08-27 16:42:22' ...\n",
      " '2017-07-25 14:00:26' '2017-07-30 14:11:14' '2017-08-08 10:35:40']\n",
      "['motorolaXT1562' 'iPhone6' 'HTCHTC 10' ...\n",
      " 'HTCHTC Sensation XL with Beats Audio X315e'\n",
      " 'GenymotionCustom Phone - 7.0.0 - API 24 - 768x1280'\n",
      " 'alpsverykool SL5009']\n",
      "['motorola6.0.1' 'iOS10.3.3' 'HTC7.0' ... 'ALIGATOR S50606.0' 'ERGO5.1'\n",
      " 'Genymotion7.0']\n",
      "['ee' 'ua' 'lv' 'hu' 'ge' 'lt' 'mt' 'pl' 'za' 'fi' 'sk' 'cz' 'ro' 'rs'\n",
      " 'ng' 'ke' 'mx' 'az' 'gh' nan 'eg' 'ca' 'sa']\n",
      "[  2.   1.   6. 164. 158.   3.   7.  15.   9. 324.  13.  nan 307.  28.\n",
      "   4.  55. 161. 326. 271. 250.  54. 325. 260.  10. 273. 136. 278. 320.\n",
      " 317. 338. 242. 335. 137. 279. 353. 348.  38. 244. 341. 174. 297. 371.]\n",
      "[ 58.37822   59.42413   59.413508 ...  41.709336 -26.077051 -26.009115]\n",
      "[26.710402 24.646359 24.743706 ... 28.084813 26.020226 28.216854]\n",
      "[ 58.363243  59.397548  59.4485   ... -25.724357  41.693171 -26.095041]\n",
      "[26.737696 24.660957 24.804887 ... 28.132867 28.080559 28.152788]\n",
      "[    218     266     551 ... 2086329 2161013 2221777]\n",
      "[ 4047728  5093642  6655300 ... 25395179 26005713 27091903]\n",
      "[ 4054895  5129745  6792534 ... 26088621 26739674 27947611]\n",
      "[ 773   43 1654 ... 6339 9031 8514]\n",
      "[ 3017  4241  6347 ... 29561 24787 33104]\n",
      "[   4.5     4.4     7.2  ... 1365.     14.88   11.21]\n",
      "[4.50000e+00 4.40000e+00 7.20000e+00 ... 1.36500e+03 1.09000e+00\n",
      " 3.77299e+01]\n",
      "['ok        ' 'requested ' 'not_solved']\n",
      "[nan 'price_calculation_warnings ' 'price_too_high             '\n",
      " 'calculation_failed         ']\n",
      "[1 0]\n",
      "['**** 0810' '**** 9115' '**** 0634' ... '**** 5680' '**** 4594'\n",
      " '**** 1448']\n",
      "[    nan 516903. 541747. ... 497110. 492230. 486410.]\n",
      "[ 0  1  2  7  3  4  6  5 14  8 12 15  9 18 11 13 10 20 16 27 19 17 25 33\n",
      " 39 29 23 22 28 24 34 32 21 26 31 30 42]\n"
     ]
    }
   ],
   "source": [
    "for col in df:\n",
    "    print(df[col].unique())"
   ]
  },
  {
   "cell_type": "code",
   "execution_count": 3,
   "id": "82e9bc31",
   "metadata": {},
   "outputs": [
    {
     "data": {
      "text/html": [
       "<div>\n",
       "<style scoped>\n",
       "    .dataframe tbody tr th:only-of-type {\n",
       "        vertical-align: middle;\n",
       "    }\n",
       "\n",
       "    .dataframe tbody tr th {\n",
       "        vertical-align: top;\n",
       "    }\n",
       "\n",
       "    .dataframe thead th {\n",
       "        text-align: right;\n",
       "    }\n",
       "</style>\n",
       "<table border=\"1\" class=\"dataframe\">\n",
       "  <thead>\n",
       "    <tr style=\"text-align: right;\">\n",
       "      <th></th>\n",
       "      <th>created</th>\n",
       "      <th>device_name</th>\n",
       "      <th>device_os_version</th>\n",
       "      <th>country</th>\n",
       "      <th>city_id</th>\n",
       "      <th>lat</th>\n",
       "      <th>lng</th>\n",
       "      <th>real_destination_lat</th>\n",
       "      <th>real_destination_lng</th>\n",
       "      <th>user_id</th>\n",
       "      <th>...</th>\n",
       "      <th>distance</th>\n",
       "      <th>ride_distance</th>\n",
       "      <th>price</th>\n",
       "      <th>ride_price</th>\n",
       "      <th>price_review_status</th>\n",
       "      <th>price_review_reason</th>\n",
       "      <th>name</th>\n",
       "      <th>card_bin</th>\n",
       "      <th>failed_attempts</th>\n",
       "      <th>is_successful_payment</th>\n",
       "    </tr>\n",
       "  </thead>\n",
       "  <tbody>\n",
       "    <tr>\n",
       "      <th>0</th>\n",
       "      <td>2016-01-23 23:10:07</td>\n",
       "      <td>motorolaXT1562</td>\n",
       "      <td>motorola6.0.1</td>\n",
       "      <td>ee</td>\n",
       "      <td>2.0</td>\n",
       "      <td>58.378220</td>\n",
       "      <td>26.710402</td>\n",
       "      <td>58.363243</td>\n",
       "      <td>26.737696</td>\n",
       "      <td>218</td>\n",
       "      <td>...</td>\n",
       "      <td>773</td>\n",
       "      <td>3017</td>\n",
       "      <td>4.5000</td>\n",
       "      <td>4.5000</td>\n",
       "      <td>ok</td>\n",
       "      <td>NaN</td>\n",
       "      <td>**** 0810</td>\n",
       "      <td>NaN</td>\n",
       "      <td>0</td>\n",
       "      <td>1</td>\n",
       "    </tr>\n",
       "    <tr>\n",
       "      <th>1</th>\n",
       "      <td>2016-05-04 06:01:32</td>\n",
       "      <td>iPhone6</td>\n",
       "      <td>iOS10.3.3</td>\n",
       "      <td>ee</td>\n",
       "      <td>1.0</td>\n",
       "      <td>59.424130</td>\n",
       "      <td>24.646359</td>\n",
       "      <td>59.397548</td>\n",
       "      <td>24.660957</td>\n",
       "      <td>266</td>\n",
       "      <td>...</td>\n",
       "      <td>43</td>\n",
       "      <td>4241</td>\n",
       "      <td>4.4000</td>\n",
       "      <td>4.4000</td>\n",
       "      <td>ok</td>\n",
       "      <td>NaN</td>\n",
       "      <td>**** 9115</td>\n",
       "      <td>NaN</td>\n",
       "      <td>0</td>\n",
       "      <td>1</td>\n",
       "    </tr>\n",
       "    <tr>\n",
       "      <th>2</th>\n",
       "      <td>2016-08-27 16:42:22</td>\n",
       "      <td>HTCHTC 10</td>\n",
       "      <td>HTC7.0</td>\n",
       "      <td>ee</td>\n",
       "      <td>1.0</td>\n",
       "      <td>59.413508</td>\n",
       "      <td>24.743706</td>\n",
       "      <td>59.448500</td>\n",
       "      <td>24.804887</td>\n",
       "      <td>551</td>\n",
       "      <td>...</td>\n",
       "      <td>1654</td>\n",
       "      <td>6347</td>\n",
       "      <td>7.2000</td>\n",
       "      <td>7.2000</td>\n",
       "      <td>ok</td>\n",
       "      <td>NaN</td>\n",
       "      <td>**** 0634</td>\n",
       "      <td>516903.0</td>\n",
       "      <td>0</td>\n",
       "      <td>1</td>\n",
       "    </tr>\n",
       "    <tr>\n",
       "      <th>3</th>\n",
       "      <td>2016-10-25 07:14:27</td>\n",
       "      <td>iPhone6S</td>\n",
       "      <td>iOS10.3.2</td>\n",
       "      <td>ee</td>\n",
       "      <td>1.0</td>\n",
       "      <td>59.419938</td>\n",
       "      <td>24.744795</td>\n",
       "      <td>59.431686</td>\n",
       "      <td>24.720801</td>\n",
       "      <td>798</td>\n",
       "      <td>...</td>\n",
       "      <td>883</td>\n",
       "      <td>2638</td>\n",
       "      <td>3.1000</td>\n",
       "      <td>3.1000</td>\n",
       "      <td>ok</td>\n",
       "      <td>NaN</td>\n",
       "      <td>**** 8730</td>\n",
       "      <td>541747.0</td>\n",
       "      <td>0</td>\n",
       "      <td>1</td>\n",
       "    </tr>\n",
       "    <tr>\n",
       "      <th>4</th>\n",
       "      <td>2016-09-09 12:46:47</td>\n",
       "      <td>iPhone5,2</td>\n",
       "      <td>iOS9.3.4</td>\n",
       "      <td>ee</td>\n",
       "      <td>1.0</td>\n",
       "      <td>59.471328</td>\n",
       "      <td>24.890557</td>\n",
       "      <td>59.427836</td>\n",
       "      <td>24.774460</td>\n",
       "      <td>944</td>\n",
       "      <td>...</td>\n",
       "      <td>1109</td>\n",
       "      <td>10288</td>\n",
       "      <td>9.0999</td>\n",
       "      <td>9.0999</td>\n",
       "      <td>ok</td>\n",
       "      <td>NaN</td>\n",
       "      <td>**** 3503</td>\n",
       "      <td>NaN</td>\n",
       "      <td>0</td>\n",
       "      <td>1</td>\n",
       "    </tr>\n",
       "    <tr>\n",
       "      <th>...</th>\n",
       "      <td>...</td>\n",
       "      <td>...</td>\n",
       "      <td>...</td>\n",
       "      <td>...</td>\n",
       "      <td>...</td>\n",
       "      <td>...</td>\n",
       "      <td>...</td>\n",
       "      <td>...</td>\n",
       "      <td>...</td>\n",
       "      <td>...</td>\n",
       "      <td>...</td>\n",
       "      <td>...</td>\n",
       "      <td>...</td>\n",
       "      <td>...</td>\n",
       "      <td>...</td>\n",
       "      <td>...</td>\n",
       "      <td>...</td>\n",
       "      <td>...</td>\n",
       "      <td>...</td>\n",
       "      <td>...</td>\n",
       "      <td>...</td>\n",
       "    </tr>\n",
       "    <tr>\n",
       "      <th>304048</th>\n",
       "      <td>2017-06-21 05:05:50</td>\n",
       "      <td>iPhone6S</td>\n",
       "      <td>iOS10.2.1</td>\n",
       "      <td>za</td>\n",
       "      <td>54.0</td>\n",
       "      <td>-25.746974</td>\n",
       "      <td>28.114173</td>\n",
       "      <td>-25.748204</td>\n",
       "      <td>28.132867</td>\n",
       "      <td>1916704</td>\n",
       "      <td>...</td>\n",
       "      <td>2640</td>\n",
       "      <td>3334</td>\n",
       "      <td>40.0000</td>\n",
       "      <td>40.0000</td>\n",
       "      <td>ok</td>\n",
       "      <td>NaN</td>\n",
       "      <td>**** 2904</td>\n",
       "      <td>523982.0</td>\n",
       "      <td>0</td>\n",
       "      <td>1</td>\n",
       "    </tr>\n",
       "    <tr>\n",
       "      <th>304049</th>\n",
       "      <td>2017-07-03 12:34:48</td>\n",
       "      <td>iPhone6</td>\n",
       "      <td>iOS10.3.2</td>\n",
       "      <td>ge</td>\n",
       "      <td>15.0</td>\n",
       "      <td>41.709336</td>\n",
       "      <td>44.802954</td>\n",
       "      <td>41.693171</td>\n",
       "      <td>44.803201</td>\n",
       "      <td>2017910</td>\n",
       "      <td>...</td>\n",
       "      <td>608</td>\n",
       "      <td>3959</td>\n",
       "      <td>4.4000</td>\n",
       "      <td>4.4000</td>\n",
       "      <td>ok</td>\n",
       "      <td>NaN</td>\n",
       "      <td>**** 9886</td>\n",
       "      <td>431572.0</td>\n",
       "      <td>0</td>\n",
       "      <td>1</td>\n",
       "    </tr>\n",
       "    <tr>\n",
       "      <th>304050</th>\n",
       "      <td>2017-07-25 14:00:26</td>\n",
       "      <td>BoostShaker-Slim</td>\n",
       "      <td>Boost4.4.2</td>\n",
       "      <td>za</td>\n",
       "      <td>54.0</td>\n",
       "      <td>-26.077051</td>\n",
       "      <td>28.084813</td>\n",
       "      <td>-26.095041</td>\n",
       "      <td>28.080559</td>\n",
       "      <td>2086329</td>\n",
       "      <td>...</td>\n",
       "      <td>1566</td>\n",
       "      <td>2936</td>\n",
       "      <td>30.0000</td>\n",
       "      <td>30.0000</td>\n",
       "      <td>ok</td>\n",
       "      <td>NaN</td>\n",
       "      <td>**** 8607</td>\n",
       "      <td>425668.0</td>\n",
       "      <td>0</td>\n",
       "      <td>1</td>\n",
       "    </tr>\n",
       "    <tr>\n",
       "      <th>304051</th>\n",
       "      <td>2017-07-30 14:11:14</td>\n",
       "      <td>iPhone6</td>\n",
       "      <td>iOS10.3.2</td>\n",
       "      <td>ro</td>\n",
       "      <td>325.0</td>\n",
       "      <td>44.441192</td>\n",
       "      <td>26.020226</td>\n",
       "      <td>44.435512</td>\n",
       "      <td>26.116617</td>\n",
       "      <td>2161013</td>\n",
       "      <td>...</td>\n",
       "      <td>1723</td>\n",
       "      <td>9708</td>\n",
       "      <td>23.8999</td>\n",
       "      <td>23.8999</td>\n",
       "      <td>ok</td>\n",
       "      <td>NaN</td>\n",
       "      <td>**** 6850</td>\n",
       "      <td>554593.0</td>\n",
       "      <td>0</td>\n",
       "      <td>1</td>\n",
       "    </tr>\n",
       "    <tr>\n",
       "      <th>304052</th>\n",
       "      <td>2017-08-08 10:35:40</td>\n",
       "      <td>samsungSM-G532F</td>\n",
       "      <td>samsung6.0.1</td>\n",
       "      <td>za</td>\n",
       "      <td>54.0</td>\n",
       "      <td>-26.009115</td>\n",
       "      <td>28.216854</td>\n",
       "      <td>-26.136012</td>\n",
       "      <td>28.152788</td>\n",
       "      <td>2221777</td>\n",
       "      <td>...</td>\n",
       "      <td>1133</td>\n",
       "      <td>33104</td>\n",
       "      <td>55.0000</td>\n",
       "      <td>130.0000</td>\n",
       "      <td>ok</td>\n",
       "      <td>NaN</td>\n",
       "      <td>**** 3545</td>\n",
       "      <td>457896.0</td>\n",
       "      <td>0</td>\n",
       "      <td>1</td>\n",
       "    </tr>\n",
       "  </tbody>\n",
       "</table>\n",
       "<p>304053 rows × 22 columns</p>\n",
       "</div>"
      ],
      "text/plain": [
       "                    created       device_name device_os_version country  \\\n",
       "0       2016-01-23 23:10:07    motorolaXT1562     motorola6.0.1      ee   \n",
       "1       2016-05-04 06:01:32           iPhone6         iOS10.3.3      ee   \n",
       "2       2016-08-27 16:42:22         HTCHTC 10            HTC7.0      ee   \n",
       "3       2016-10-25 07:14:27          iPhone6S         iOS10.3.2      ee   \n",
       "4       2016-09-09 12:46:47         iPhone5,2          iOS9.3.4      ee   \n",
       "...                     ...               ...               ...     ...   \n",
       "304048  2017-06-21 05:05:50          iPhone6S         iOS10.2.1      za   \n",
       "304049  2017-07-03 12:34:48           iPhone6         iOS10.3.2      ge   \n",
       "304050  2017-07-25 14:00:26  BoostShaker-Slim        Boost4.4.2      za   \n",
       "304051  2017-07-30 14:11:14           iPhone6         iOS10.3.2      ro   \n",
       "304052  2017-08-08 10:35:40   samsungSM-G532F      samsung6.0.1      za   \n",
       "\n",
       "        city_id        lat        lng  real_destination_lat  \\\n",
       "0           2.0  58.378220  26.710402             58.363243   \n",
       "1           1.0  59.424130  24.646359             59.397548   \n",
       "2           1.0  59.413508  24.743706             59.448500   \n",
       "3           1.0  59.419938  24.744795             59.431686   \n",
       "4           1.0  59.471328  24.890557             59.427836   \n",
       "...         ...        ...        ...                   ...   \n",
       "304048     54.0 -25.746974  28.114173            -25.748204   \n",
       "304049     15.0  41.709336  44.802954             41.693171   \n",
       "304050     54.0 -26.077051  28.084813            -26.095041   \n",
       "304051    325.0  44.441192  26.020226             44.435512   \n",
       "304052     54.0 -26.009115  28.216854            -26.136012   \n",
       "\n",
       "        real_destination_lng  user_id  ...  distance  ride_distance    price  \\\n",
       "0                  26.737696      218  ...       773           3017   4.5000   \n",
       "1                  24.660957      266  ...        43           4241   4.4000   \n",
       "2                  24.804887      551  ...      1654           6347   7.2000   \n",
       "3                  24.720801      798  ...       883           2638   3.1000   \n",
       "4                  24.774460      944  ...      1109          10288   9.0999   \n",
       "...                      ...      ...  ...       ...            ...      ...   \n",
       "304048             28.132867  1916704  ...      2640           3334  40.0000   \n",
       "304049             44.803201  2017910  ...       608           3959   4.4000   \n",
       "304050             28.080559  2086329  ...      1566           2936  30.0000   \n",
       "304051             26.116617  2161013  ...      1723           9708  23.8999   \n",
       "304052             28.152788  2221777  ...      1133          33104  55.0000   \n",
       "\n",
       "        ride_price  price_review_status  price_review_reason       name  \\\n",
       "0           4.5000           ok                          NaN  **** 0810   \n",
       "1           4.4000           ok                          NaN  **** 9115   \n",
       "2           7.2000           ok                          NaN  **** 0634   \n",
       "3           3.1000           ok                          NaN  **** 8730   \n",
       "4           9.0999           ok                          NaN  **** 3503   \n",
       "...            ...                  ...                  ...        ...   \n",
       "304048     40.0000           ok                          NaN  **** 2904   \n",
       "304049      4.4000           ok                          NaN  **** 9886   \n",
       "304050     30.0000           ok                          NaN  **** 8607   \n",
       "304051     23.8999           ok                          NaN  **** 6850   \n",
       "304052    130.0000           ok                          NaN  **** 3545   \n",
       "\n",
       "        card_bin failed_attempts  is_successful_payment  \n",
       "0            NaN               0                      1  \n",
       "1            NaN               0                      1  \n",
       "2       516903.0               0                      1  \n",
       "3       541747.0               0                      1  \n",
       "4            NaN               0                      1  \n",
       "...          ...             ...                    ...  \n",
       "304048  523982.0               0                      1  \n",
       "304049  431572.0               0                      1  \n",
       "304050  425668.0               0                      1  \n",
       "304051  554593.0               0                      1  \n",
       "304052  457896.0               0                      1  \n",
       "\n",
       "[304053 rows x 22 columns]"
      ]
     },
     "execution_count": 3,
     "metadata": {},
     "output_type": "execute_result"
    }
   ],
   "source": [
    "# Move Target column to the end\n",
    "\n",
    "df[[c for c in df if c not in ['is_successful_payment']] \n",
    "       + ['is_successful_payment']]"
   ]
  },
  {
   "cell_type": "code",
   "execution_count": 5,
   "id": "8647d382",
   "metadata": {},
   "outputs": [
    {
     "data": {
      "text/plain": [
       "1    225020\n",
       "0     79033\n",
       "Name: is_successful_payment, dtype: int64"
      ]
     },
     "execution_count": 5,
     "metadata": {},
     "output_type": "execute_result"
    }
   ],
   "source": [
    "df['is_successful_payment'].value_counts()"
   ]
  },
  {
   "cell_type": "code",
   "execution_count": 6,
   "id": "d4e1b2e1",
   "metadata": {},
   "outputs": [
    {
     "data": {
      "text/plain": [
       "1    225020\n",
       "0     79033\n",
       "Name: is_successful_payment, dtype: int64"
      ]
     },
     "execution_count": 6,
     "metadata": {},
     "output_type": "execute_result"
    }
   ],
   "source": [
    "df['is_successful_payment'].value_counts()"
   ]
  },
  {
   "cell_type": "code",
   "execution_count": 8,
   "id": "536d1597",
   "metadata": {},
   "outputs": [
    {
     "data": {
      "image/png": "[encoded data removed]",
      "text/plain": [
       "<Figure size 432x288 with 1 Axes>"
      ]
     },
     "metadata": {},
     "output_type": "display_data"
    }
   ],
   "source": [
    "import seaborn as sns\n",
    "sns.set_theme(style=\"darkgrid\")\n",
    "ax = sns.countplot(x=\"is_successful_payment\", data=df)"
   ]
  },
  {
   "cell_type": "code",
   "execution_count": 11,
   "id": "8c7381c8",
   "metadata": {},
   "outputs": [],
   "source": [
    "df = df.drop(['name','device_os_version','created','order_id','order_try_id','city_id','lat','lng','real_destination_lat','real_destination_lng','user_id'], axis = 1)"
   ]
  },
  {
   "cell_type": "code",
   "execution_count": 12,
   "id": "546e8140",
   "metadata": {},
   "outputs": [],
   "source": [
    "from sklearn.preprocessing import LabelEncoder \n",
    "labelencoder= LabelEncoder() #initializing an object of class LabelEncoder\n",
    "df['device_name'] = labelencoder.fit_transform(df['device_name']) #fitting and transforming\n",
    "df['country'] = labelencoder.fit_transform(df['country'])\n",
    "df['price_review_status'] = labelencoder.fit_transform(df['price_review_status'])\n",
    "df['price_review_reason'] = labelencoder.fit_transform(df['price_review_reason'])"
   ]
  },
  {
   "cell_type": "code",
   "execution_count": 13,
   "id": "7e3306a7",
   "metadata": {},
   "outputs": [
    {
     "data": {
      "image/png": "[encoded data removed]",
      "text/plain": [
       "<Figure size 432x288 with 1 Axes>"
      ]
     },
     "metadata": {},
     "output_type": "display_data"
    }
   ],
   "source": [
    "import numpy as np\n",
    "import matplotlib.pyplot as plt\n",
    "\n",
    "from sklearn.datasets import make_classification\n",
    "from sklearn.ensemble import ExtraTreesClassifier\n",
    "\n",
    "# Build a forest and compute the feature importances\n",
    "forest = ExtraTreesClassifier(n_estimators=250,random_state=0)\n",
    "                              \n",
    "\n",
    "X = df[['price','device_name','country','distance','ride_distance','ride_price','price_review_status','price_review_reason','card_bin','failed_attempts','is_successful_payment']].dropna()\n",
    "y = X.pop('is_successful_payment')\n",
    "\n",
    "forest.fit(X, y)\n",
    "importances = forest.feature_importances_\n",
    "std = np.std([tree.feature_importances_ for tree in forest.estimators_],axis=0)\n",
    "indices = np.argsort(importances)\n",
    "\n",
    "# Plot the feature importances of the forest\n",
    "plt.figure()\n",
    "plt.title(\"Feature importances\")\n",
    "plt.barh(range(X.shape[1]), importances[indices],\n",
    "       color=\"r\", xerr=std[indices], align=\"center\")\n",
    "# If you want to define your own labels,\n",
    "# change indices to a list of labels on the following line.\n",
    "plt.yticks(range(X.shape[1]), indices)\n",
    "plt.ylim([-1, X.shape[1]])\n",
    "plt.show()"
   ]
  },
  {
   "cell_type": "code",
   "execution_count": 14,
   "id": "2d80efcb",
   "metadata": {},
   "outputs": [
    {
     "data": {
      "text/plain": [
       "18          0.0\n",
       "34          0.0\n",
       "39          0.0\n",
       "52          8.8\n",
       "57          0.0\n",
       "          ...  \n",
       "304035     55.0\n",
       "304036      0.0\n",
       "304038      0.0\n",
       "304039    175.0\n",
       "304046      0.0\n",
       "Name: price, Length: 79033, dtype: float64"
      ]
     },
     "execution_count": 14,
     "metadata": {},
     "output_type": "execute_result"
    }
   ],
   "source": [
    "df1= df.loc[df['is_successful_payment'] == 0, '']\n",
    "df1"
   ]
  },
  {
   "cell_type": "code",
   "execution_count": 15,
   "id": "14311d8f",
   "metadata": {},
   "outputs": [
    {
     "data": {
      "text/plain": [
       "<AxesSubplot:>"
      ]
     },
     "execution_count": 15,
     "metadata": {},
     "output_type": "execute_result"
    },
    {
     "data": {
      "image/png": "[encoded data removed]",
      "text/plain": [
       "<Figure size 432x288 with 1 Axes>"
      ]
     },
     "metadata": {},
     "output_type": "display_data"
    }
   ],
   "source": [
    "s = pd.Series(df1)\n",
    "s.plot.line()"
   ]
  },
  {
   "cell_type": "code",
   "execution_count": 16,
   "id": "a200a27a",
   "metadata": {},
   "outputs": [
    {
     "data": {
      "text/plain": [
       "84.11743393139542"
      ]
     },
     "execution_count": 16,
     "metadata": {},
     "output_type": "execute_result"
    }
   ],
   "source": [
    "import numpy\n",
    "\n",
    "A = numpy.mean(df1)\n",
    "A"
   ]
  },
  {
   "cell_type": "code",
   "execution_count": 17,
   "id": "9022d9fc",
   "metadata": {},
   "outputs": [
    {
     "data": {
      "text/plain": [
       "64210.0"
      ]
     },
     "execution_count": 17,
     "metadata": {},
     "output_type": "execute_result"
    }
   ],
   "source": [
    "import numpy\n",
    "\n",
    "A = numpy.max(df1)\n",
    "A"
   ]
  },
  {
   "cell_type": "code",
   "execution_count": 18,
   "id": "a3a1176a",
   "metadata": {},
   "outputs": [
    {
     "data": {
      "text/plain": [
       "0.0"
      ]
     },
     "execution_count": 18,
     "metadata": {},
     "output_type": "execute_result"
    }
   ],
   "source": [
    "import numpy\n",
    "\n",
    "A = numpy.min(df1)\n",
    "A"
   ]
  },
  {
   "cell_type": "code",
   "execution_count": 39,
   "id": "19de2ce9",
   "metadata": {},
   "outputs": [],
   "source": [
    "import numpy as np\n",
    "import matplotlib.pyplot as plt\n"
   ]
  },
  {
   "cell_type": "code",
   "execution_count": 19,
   "id": "fab01c52",
   "metadata": {},
   "outputs": [
    {
     "data": {
      "text/plain": [
       "0          4.5000\n",
       "1          4.4000\n",
       "2          7.2000\n",
       "3          3.1000\n",
       "4          9.0999\n",
       "           ...   \n",
       "304048    40.0000\n",
       "304049     4.4000\n",
       "304050    30.0000\n",
       "304051    23.8999\n",
       "304052    55.0000\n",
       "Name: price, Length: 225020, dtype: float64"
      ]
     },
     "execution_count": 19,
     "metadata": {},
     "output_type": "execute_result"
    }
   ],
   "source": [
    "df2= df.loc[df['is_successful_payment'] == 1, 'price']\n",
    "df2"
   ]
  },
  {
   "cell_type": "code",
   "execution_count": 20,
   "id": "7274014e",
   "metadata": {},
   "outputs": [
    {
     "data": {
      "text/plain": [
       "<AxesSubplot:>"
      ]
     },
     "execution_count": 20,
     "metadata": {},
     "output_type": "execute_result"
    },
    {
     "data": {
      "image/png": "[encoded data removed]",
      "text/plain": [
       "<Figure size 432x288 with 1 Axes>"
      ]
     },
     "metadata": {},
     "output_type": "display_data"
    }
   ],
   "source": [
    "s = pd.Series(df2)\n",
    "s.plot.line()"
   ]
  },
  {
   "cell_type": "code",
   "execution_count": 21,
   "id": "b6762243",
   "metadata": {},
   "outputs": [
    {
     "data": {
      "text/plain": [
       "316.9004819093053"
      ]
     },
     "execution_count": 21,
     "metadata": {},
     "output_type": "execute_result"
    }
   ],
   "source": [
    "import numpy\n",
    "\n",
    "A = numpy.mean(df2)\n",
    "A"
   ]
  },
  {
   "cell_type": "code",
   "execution_count": 22,
   "id": "57dafdab",
   "metadata": {},
   "outputs": [
    {
     "data": {
      "text/plain": [
       "34460.0"
      ]
     },
     "execution_count": 22,
     "metadata": {},
     "output_type": "execute_result"
    }
   ],
   "source": [
    "import numpy\n",
    "\n",
    "A = numpy.max(df2)\n",
    "A"
   ]
  },
  {
   "cell_type": "code",
   "execution_count": 23,
   "id": "349c9eba",
   "metadata": {},
   "outputs": [
    {
     "data": {
      "text/plain": [
       "0.02"
      ]
     },
     "execution_count": 23,
     "metadata": {},
     "output_type": "execute_result"
    }
   ],
   "source": [
    "import numpy\n",
    "\n",
    "A = numpy.min(df2)\n",
    "A"
   ]
  },
  {
   "cell_type": "code",
   "execution_count": 54,
   "id": "fe806dc9",
   "metadata": {
    "scrolled": true
   },
   "outputs": [
    {
     "data": {
      "image/png": "[encoded data removed]",
      "text/plain": [
       "<Figure size 432x288 with 1 Axes>"
      ]
     },
     "metadata": {},
     "output_type": "display_data"
    }
   ],
   "source": [
    "# Boxplot with Seaborn\n",
    "import seaborn as sns\n",
    "sns.set_style('whitegrid')\n",
    "ax= sns.boxplot(x='is_successful_payment',y='price',data=df)\n",
    "ax = sns.stripplot(x=\"is_successful_payment\", y=\"price\",data=df)"
   ]
  },
  {
   "cell_type": "markdown",
   "id": "75450490",
   "metadata": {},
   "source": [
    "# Result 4  about price"
   ]
  },
  {
   "cell_type": "markdown",
   "id": "3cef7439",
   "metadata": {},
   "source": [
    "After arranging the features according to the degree of their impact on the target feature,\n",
    "we find that the due ride price is of paramount importance in the emergence of failed payments,\n",
    "but because of lot of overlapping between 0 and 1 with Price. \n",
    "We cannot use the price variable alone to classify.\n"
   ]
  },
  {
   "cell_type": "code",
   "execution_count": 29,
   "id": "ae907f51",
   "metadata": {},
   "outputs": [
    {
     "data": {
      "text/plain": [
       "<AxesSubplot:xlabel='is_successful_payment', ylabel='price'>"
      ]
     },
     "execution_count": 29,
     "metadata": {},
     "output_type": "execute_result"
    },
    {
     "data": {
      "image/png": "[encoded data removed]",
      "text/plain": [
       "<Figure size 432x288 with 1 Axes>"
      ]
     },
     "metadata": {},
     "output_type": "display_data"
    }
   ],
   "source": [
    "import seaborn as sns\n",
    "\n",
    "sns.scatterplot(data=df, x='is_successful_payment', y='price')"
   ]
  },
  {
   "cell_type": "code",
   "execution_count": 33,
   "id": "38892d74",
   "metadata": {},
   "outputs": [
    {
     "data": {
      "text/plain": [
       "9462.326530975024"
      ]
     },
     "execution_count": 33,
     "metadata": {},
     "output_type": "execute_result"
    }
   ],
   "source": [
    "df3= df.loc[df['is_successful_payment'] == 1, 'ride_distance']\n",
    "B = numpy.mean(df3)\n",
    "B"
   ]
  },
  {
   "cell_type": "code",
   "execution_count": 35,
   "id": "5dd27998",
   "metadata": {},
   "outputs": [
    {
     "data": {
      "text/plain": [
       "9317.228524793441"
      ]
     },
     "execution_count": 35,
     "metadata": {},
     "output_type": "execute_result"
    }
   ],
   "source": [
    "df4= df.loc[df['is_successful_payment'] == 0, 'ride_distance']\n",
    "C = numpy.mean(df4)\n",
    "C"
   ]
  },
  {
   "cell_type": "code",
   "execution_count": 72,
   "id": "915865e2",
   "metadata": {},
   "outputs": [
    {
     "data": {
      "image/png": "[encoded data removed]",
      "text/plain": [
       "<Figure size 432x288 with 1 Axes>"
      ]
     },
     "metadata": {},
     "output_type": "display_data"
    }
   ],
   "source": [
    "# Boxplot with Seaborn\n",
    "import seaborn as sns\n",
    "sns.set_style('whitegrid')\n",
    "ax= sns.boxplot(x='is_successful_payment',y='ride_distance',data=df)\n",
    "ax = sns.stripplot(x=\"is_successful_payment\", y=\"ride_distance\",data=df)"
   ]
  },
  {
   "cell_type": "markdown",
   "id": "85671179",
   "metadata": {},
   "source": [
    "# Result 5 about ride distance"
   ]
  },
  {
   "cell_type": "markdown",
   "id": "59b914ae",
   "metadata": {},
   "source": [
    "There is lot of overlapping between 0 and 1 ride distance. \n",
    "so we cannot use the ride distance variable alone to classify."
   ]
  },
  {
   "cell_type": "markdown",
   "id": "bb54767b",
   "metadata": {},
   "source": [
    "# To Recap"
   ]
  },
  {
   "cell_type": "markdown",
   "id": "5bb0d1f2",
   "metadata": {},
   "source": [
    "# The proposed solutions:\n",
    "\n",
    "1- Ensure that some areas are free of technical problems, such as poor internet service.\n",
    "\n",
    "2- Ensuring that the customer has sufficient knowledge of the pricing policy about flights by giving him some examples.\n",
    "\n",
    "3- It is possible for the company to deduct a credit balance to preserve its right in case it fails to recover its debts.\n",
    "\n",
    "4- Make the ride service prepaid, not postpaid.\n",
    "\n",
    "5- Very important: Giving the user an option that enables him to check whether his current balance can take him to his destination or not, if yes, then he can place an order"
   ]
  },
  {
   "cell_type": "code",
   "execution_count": null,
   "id": "9cf304ad",
   "metadata": {},
   "outputs": [],
   "source": []
  },
  {
   "cell_type": "code",
   "execution_count": null,
   "id": "b6655cdb",
   "metadata": {},
   "outputs": [],
   "source": []
  },
  {
   "cell_type": "code",
   "execution_count": null,
   "id": "910752e1",
   "metadata": {},
   "outputs": [],
   "source": []
  },
  {
   "cell_type": "code",
   "execution_count": null,
   "id": "abfbd829",
   "metadata": {},
   "outputs": [],
   "source": []
  },
  {
   "cell_type": "markdown",
   "id": "51fa1664",
   "metadata": {},
   "source": [
    "Done by: Naim Rihan    naimrihan93@gmail.com"
   ]
  }
 ],
 "metadata": {
  "kernelspec": {
   "display_name": "Python 3 (ipykernel)",
   "language": "python",
   "name": "python3"
  },
  "language_info": {
   "codemirror_mode": {
    "name": "ipython",
    "version": 3
   },
   "file_extension": ".py",
   "mimetype": "text/x-python",
   "name": "python",
   "nbconvert_exporter": "python",
   "pygments_lexer": "ipython3",
   "version": "3.9.7"
  }
 },
 "nbformat": 4,
 "nbformat_minor": 5
}
